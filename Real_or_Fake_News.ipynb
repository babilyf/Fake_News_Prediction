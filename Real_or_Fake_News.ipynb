{
  "nbformat": 4,
  "nbformat_minor": 0,
  "metadata": {
    "colab": {
      "provenance": []
    },
    "kernelspec": {
      "name": "python3",
      "display_name": "Python 3"
    },
    "language_info": {
      "name": "python"
    }
  },
  "cells": [
    {
      "cell_type": "markdown",
      "source": [
        "# **Fake News Predicition**"
      ],
      "metadata": {
        "id": "qwuEYw7YqSue"
      }
    },
    {
      "cell_type": "markdown",
      "source": [
        "About the Dataset:\n",
        "1.id: unique id for a news article\n",
        "2.Title: the title of a news article\n",
        "3.Author: author of the news article\n",
        "4.Text: the text of the article; could be incomplete\n",
        "5.label: a label that marks whether the news is real or fake:\n",
        "\n",
        "\n",
        "```\n",
        "1: Fake news\n",
        "0: Real news\n",
        "```\n",
        "\n"
      ],
      "metadata": {
        "id": "nGdrvcJmUKCy"
      }
    },
    {
      "cell_type": "markdown",
      "source": [
        "Importing the Dependencies"
      ],
      "metadata": {
        "id": "BFBJDjpJVXYK"
      }
    },
    {
      "cell_type": "code",
      "execution_count": 17,
      "metadata": {
        "id": "RDjTwPrYTrK4"
      },
      "outputs": [],
      "source": [
        "import numpy as np #for making numpy arrays\n",
        "import pandas as pd #useful for creating and storing data in data-frame\n",
        "import re #Regualr expression library, useful for searching words in a text/paragraph\n",
        "from nltk.corpus import stopwords #nltk --> natural language tool kit. stopwords include a,and,so (not so useful words)\n",
        "from nltk.stem.porter import PorterStemmer #stemming removes prefix and suffix of word, gives root word.\n",
        "from sklearn.feature_extraction.text import TfidfVectorizer #convert text to feature vectors\n",
        "from sklearn.model_selection import train_test_split\n",
        "from sklearn.linear_model import LogisticRegression #good for binary clssification\n",
        "from sklearn.metrics import accuracy_score"
      ]
    },
    {
      "cell_type": "code",
      "source": [
        "import nltk\n",
        "nltk.download('stopwords')"
      ],
      "metadata": {
        "colab": {
          "base_uri": "https://localhost:8080/"
        },
        "id": "Dqxit5SJW6nJ",
        "outputId": "30eb0923-d627-47e8-ba64-bbf3a8d7e8bb"
      },
      "execution_count": 18,
      "outputs": [
        {
          "output_type": "stream",
          "name": "stderr",
          "text": [
            "[nltk_data] Downloading package stopwords to /root/nltk_data...\n",
            "[nltk_data]   Package stopwords is already up-to-date!\n"
          ]
        },
        {
          "output_type": "execute_result",
          "data": {
            "text/plain": [
              "True"
            ]
          },
          "metadata": {},
          "execution_count": 18
        }
      ]
    },
    {
      "cell_type": "code",
      "source": [
        "#printing stopwords in English\n",
        "print(stopwords.words('english'))"
      ],
      "metadata": {
        "colab": {
          "base_uri": "https://localhost:8080/"
        },
        "id": "-LkQuoafX-iY",
        "outputId": "0c47350f-e2e0-44d2-dd0f-55e9e0a09276"
      },
      "execution_count": 19,
      "outputs": [
        {
          "output_type": "stream",
          "name": "stdout",
          "text": [
            "['i', 'me', 'my', 'myself', 'we', 'our', 'ours', 'ourselves', 'you', \"you're\", \"you've\", \"you'll\", \"you'd\", 'your', 'yours', 'yourself', 'yourselves', 'he', 'him', 'his', 'himself', 'she', \"she's\", 'her', 'hers', 'herself', 'it', \"it's\", 'its', 'itself', 'they', 'them', 'their', 'theirs', 'themselves', 'what', 'which', 'who', 'whom', 'this', 'that', \"that'll\", 'these', 'those', 'am', 'is', 'are', 'was', 'were', 'be', 'been', 'being', 'have', 'has', 'had', 'having', 'do', 'does', 'did', 'doing', 'a', 'an', 'the', 'and', 'but', 'if', 'or', 'because', 'as', 'until', 'while', 'of', 'at', 'by', 'for', 'with', 'about', 'against', 'between', 'into', 'through', 'during', 'before', 'after', 'above', 'below', 'to', 'from', 'up', 'down', 'in', 'out', 'on', 'off', 'over', 'under', 'again', 'further', 'then', 'once', 'here', 'there', 'when', 'where', 'why', 'how', 'all', 'any', 'both', 'each', 'few', 'more', 'most', 'other', 'some', 'such', 'no', 'nor', 'not', 'only', 'own', 'same', 'so', 'than', 'too', 'very', 's', 't', 'can', 'will', 'just', 'don', \"don't\", 'should', \"should've\", 'now', 'd', 'll', 'm', 'o', 're', 've', 'y', 'ain', 'aren', \"aren't\", 'couldn', \"couldn't\", 'didn', \"didn't\", 'doesn', \"doesn't\", 'hadn', \"hadn't\", 'hasn', \"hasn't\", 'haven', \"haven't\", 'isn', \"isn't\", 'ma', 'mightn', \"mightn't\", 'mustn', \"mustn't\", 'needn', \"needn't\", 'shan', \"shan't\", 'shouldn', \"shouldn't\", 'wasn', \"wasn't\", 'weren', \"weren't\", 'won', \"won't\", 'wouldn', \"wouldn't\"]\n"
          ]
        }
      ]
    },
    {
      "cell_type": "markdown",
      "source": [
        "Data Pre-Processing"
      ],
      "metadata": {
        "id": "kfo_5uCOalLd"
      }
    },
    {
      "cell_type": "code",
      "source": [
        "#loading dataset to a pandas dataframe\n",
        "news_dataset = pd.read_csv('/content/train.csv')"
      ],
      "metadata": {
        "id": "iXHpXHEYaXTy"
      },
      "execution_count": 20,
      "outputs": []
    },
    {
      "cell_type": "code",
      "source": [
        "news_dataset.shape"
      ],
      "metadata": {
        "colab": {
          "base_uri": "https://localhost:8080/"
        },
        "id": "9RiwTgU_a7A-",
        "outputId": "e79f623c-cb05-44d9-fbd6-4083dd621947"
      },
      "execution_count": 21,
      "outputs": [
        {
          "output_type": "execute_result",
          "data": {
            "text/plain": [
              "(20800, 5)"
            ]
          },
          "metadata": {},
          "execution_count": 21
        }
      ]
    },
    {
      "cell_type": "code",
      "source": [
        "# print 5 first rows of the dataframe\n",
        "news_dataset.head()"
      ],
      "metadata": {
        "colab": {
          "base_uri": "https://localhost:8080/",
          "height": 206
        },
        "id": "ONo6OjfibBd7",
        "outputId": "520cd812-0741-4b5c-c53c-3be342d34632"
      },
      "execution_count": 22,
      "outputs": [
        {
          "output_type": "execute_result",
          "data": {
            "text/plain": [
              "   id  ... label\n",
              "0   0  ...     1\n",
              "1   1  ...     0\n",
              "2   2  ...     1\n",
              "3   3  ...     1\n",
              "4   4  ...     1\n",
              "\n",
              "[5 rows x 5 columns]"
            ],
            "text/html": [
              "\n",
              "  <div id=\"df-ce567ab5-54ca-4091-90ec-1809cee03935\" class=\"colab-df-container\">\n",
              "    <div>\n",
              "<style scoped>\n",
              "    .dataframe tbody tr th:only-of-type {\n",
              "        vertical-align: middle;\n",
              "    }\n",
              "\n",
              "    .dataframe tbody tr th {\n",
              "        vertical-align: top;\n",
              "    }\n",
              "\n",
              "    .dataframe thead th {\n",
              "        text-align: right;\n",
              "    }\n",
              "</style>\n",
              "<table border=\"1\" class=\"dataframe\">\n",
              "  <thead>\n",
              "    <tr style=\"text-align: right;\">\n",
              "      <th></th>\n",
              "      <th>id</th>\n",
              "      <th>title</th>\n",
              "      <th>author</th>\n",
              "      <th>text</th>\n",
              "      <th>label</th>\n",
              "    </tr>\n",
              "  </thead>\n",
              "  <tbody>\n",
              "    <tr>\n",
              "      <th>0</th>\n",
              "      <td>0</td>\n",
              "      <td>House Dem Aide: We Didn’t Even See Comey’s Let...</td>\n",
              "      <td>Darrell Lucus</td>\n",
              "      <td>House Dem Aide: We Didn’t Even See Comey’s Let...</td>\n",
              "      <td>1</td>\n",
              "    </tr>\n",
              "    <tr>\n",
              "      <th>1</th>\n",
              "      <td>1</td>\n",
              "      <td>FLYNN: Hillary Clinton, Big Woman on Campus - ...</td>\n",
              "      <td>Daniel J. Flynn</td>\n",
              "      <td>Ever get the feeling your life circles the rou...</td>\n",
              "      <td>0</td>\n",
              "    </tr>\n",
              "    <tr>\n",
              "      <th>2</th>\n",
              "      <td>2</td>\n",
              "      <td>Why the Truth Might Get You Fired</td>\n",
              "      <td>Consortiumnews.com</td>\n",
              "      <td>Why the Truth Might Get You Fired October 29, ...</td>\n",
              "      <td>1</td>\n",
              "    </tr>\n",
              "    <tr>\n",
              "      <th>3</th>\n",
              "      <td>3</td>\n",
              "      <td>15 Civilians Killed In Single US Airstrike Hav...</td>\n",
              "      <td>Jessica Purkiss</td>\n",
              "      <td>Videos 15 Civilians Killed In Single US Airstr...</td>\n",
              "      <td>1</td>\n",
              "    </tr>\n",
              "    <tr>\n",
              "      <th>4</th>\n",
              "      <td>4</td>\n",
              "      <td>Iranian woman jailed for fictional unpublished...</td>\n",
              "      <td>Howard Portnoy</td>\n",
              "      <td>Print \\nAn Iranian woman has been sentenced to...</td>\n",
              "      <td>1</td>\n",
              "    </tr>\n",
              "  </tbody>\n",
              "</table>\n",
              "</div>\n",
              "    <div class=\"colab-df-buttons\">\n",
              "\n",
              "  <div class=\"colab-df-container\">\n",
              "    <button class=\"colab-df-convert\" onclick=\"convertToInteractive('df-ce567ab5-54ca-4091-90ec-1809cee03935')\"\n",
              "            title=\"Convert this dataframe to an interactive table.\"\n",
              "            style=\"display:none;\">\n",
              "\n",
              "  <svg xmlns=\"http://www.w3.org/2000/svg\" height=\"24px\" viewBox=\"0 -960 960 960\">\n",
              "    <path d=\"M120-120v-720h720v720H120Zm60-500h600v-160H180v160Zm220 220h160v-160H400v160Zm0 220h160v-160H400v160ZM180-400h160v-160H180v160Zm440 0h160v-160H620v160ZM180-180h160v-160H180v160Zm440 0h160v-160H620v160Z\"/>\n",
              "  </svg>\n",
              "    </button>\n",
              "\n",
              "  <style>\n",
              "    .colab-df-container {\n",
              "      display:flex;\n",
              "      gap: 12px;\n",
              "    }\n",
              "\n",
              "    .colab-df-convert {\n",
              "      background-color: #E8F0FE;\n",
              "      border: none;\n",
              "      border-radius: 50%;\n",
              "      cursor: pointer;\n",
              "      display: none;\n",
              "      fill: #1967D2;\n",
              "      height: 32px;\n",
              "      padding: 0 0 0 0;\n",
              "      width: 32px;\n",
              "    }\n",
              "\n",
              "    .colab-df-convert:hover {\n",
              "      background-color: #E2EBFA;\n",
              "      box-shadow: 0px 1px 2px rgba(60, 64, 67, 0.3), 0px 1px 3px 1px rgba(60, 64, 67, 0.15);\n",
              "      fill: #174EA6;\n",
              "    }\n",
              "\n",
              "    .colab-df-buttons div {\n",
              "      margin-bottom: 4px;\n",
              "    }\n",
              "\n",
              "    [theme=dark] .colab-df-convert {\n",
              "      background-color: #3B4455;\n",
              "      fill: #D2E3FC;\n",
              "    }\n",
              "\n",
              "    [theme=dark] .colab-df-convert:hover {\n",
              "      background-color: #434B5C;\n",
              "      box-shadow: 0px 1px 3px 1px rgba(0, 0, 0, 0.15);\n",
              "      filter: drop-shadow(0px 1px 2px rgba(0, 0, 0, 0.3));\n",
              "      fill: #FFFFFF;\n",
              "    }\n",
              "  </style>\n",
              "\n",
              "    <script>\n",
              "      const buttonEl =\n",
              "        document.querySelector('#df-ce567ab5-54ca-4091-90ec-1809cee03935 button.colab-df-convert');\n",
              "      buttonEl.style.display =\n",
              "        google.colab.kernel.accessAllowed ? 'block' : 'none';\n",
              "\n",
              "      async function convertToInteractive(key) {\n",
              "        const element = document.querySelector('#df-ce567ab5-54ca-4091-90ec-1809cee03935');\n",
              "        const dataTable =\n",
              "          await google.colab.kernel.invokeFunction('convertToInteractive',\n",
              "                                                    [key], {});\n",
              "        if (!dataTable) return;\n",
              "\n",
              "        const docLinkHtml = 'Like what you see? Visit the ' +\n",
              "          '<a target=\"_blank\" href=https://colab.research.google.com/notebooks/data_table.ipynb>data table notebook</a>'\n",
              "          + ' to learn more about interactive tables.';\n",
              "        element.innerHTML = '';\n",
              "        dataTable['output_type'] = 'display_data';\n",
              "        await google.colab.output.renderOutput(dataTable, element);\n",
              "        const docLink = document.createElement('div');\n",
              "        docLink.innerHTML = docLinkHtml;\n",
              "        element.appendChild(docLink);\n",
              "      }\n",
              "    </script>\n",
              "  </div>\n",
              "\n",
              "\n",
              "<div id=\"df-422b7756-322f-4dec-914d-4ef238625323\">\n",
              "  <button class=\"colab-df-quickchart\" onclick=\"quickchart('df-422b7756-322f-4dec-914d-4ef238625323')\"\n",
              "            title=\"Suggest charts\"\n",
              "            style=\"display:none;\">\n",
              "\n",
              "<svg xmlns=\"http://www.w3.org/2000/svg\" height=\"24px\"viewBox=\"0 0 24 24\"\n",
              "     width=\"24px\">\n",
              "    <g>\n",
              "        <path d=\"M19 3H5c-1.1 0-2 .9-2 2v14c0 1.1.9 2 2 2h14c1.1 0 2-.9 2-2V5c0-1.1-.9-2-2-2zM9 17H7v-7h2v7zm4 0h-2V7h2v10zm4 0h-2v-4h2v4z\"/>\n",
              "    </g>\n",
              "</svg>\n",
              "  </button>\n",
              "\n",
              "<style>\n",
              "  .colab-df-quickchart {\n",
              "      --bg-color: #E8F0FE;\n",
              "      --fill-color: #1967D2;\n",
              "      --hover-bg-color: #E2EBFA;\n",
              "      --hover-fill-color: #174EA6;\n",
              "      --disabled-fill-color: #AAA;\n",
              "      --disabled-bg-color: #DDD;\n",
              "  }\n",
              "\n",
              "  [theme=dark] .colab-df-quickchart {\n",
              "      --bg-color: #3B4455;\n",
              "      --fill-color: #D2E3FC;\n",
              "      --hover-bg-color: #434B5C;\n",
              "      --hover-fill-color: #FFFFFF;\n",
              "      --disabled-bg-color: #3B4455;\n",
              "      --disabled-fill-color: #666;\n",
              "  }\n",
              "\n",
              "  .colab-df-quickchart {\n",
              "    background-color: var(--bg-color);\n",
              "    border: none;\n",
              "    border-radius: 50%;\n",
              "    cursor: pointer;\n",
              "    display: none;\n",
              "    fill: var(--fill-color);\n",
              "    height: 32px;\n",
              "    padding: 0;\n",
              "    width: 32px;\n",
              "  }\n",
              "\n",
              "  .colab-df-quickchart:hover {\n",
              "    background-color: var(--hover-bg-color);\n",
              "    box-shadow: 0 1px 2px rgba(60, 64, 67, 0.3), 0 1px 3px 1px rgba(60, 64, 67, 0.15);\n",
              "    fill: var(--button-hover-fill-color);\n",
              "  }\n",
              "\n",
              "  .colab-df-quickchart-complete:disabled,\n",
              "  .colab-df-quickchart-complete:disabled:hover {\n",
              "    background-color: var(--disabled-bg-color);\n",
              "    fill: var(--disabled-fill-color);\n",
              "    box-shadow: none;\n",
              "  }\n",
              "\n",
              "  .colab-df-spinner {\n",
              "    border: 2px solid var(--fill-color);\n",
              "    border-color: transparent;\n",
              "    border-bottom-color: var(--fill-color);\n",
              "    animation:\n",
              "      spin 1s steps(1) infinite;\n",
              "  }\n",
              "\n",
              "  @keyframes spin {\n",
              "    0% {\n",
              "      border-color: transparent;\n",
              "      border-bottom-color: var(--fill-color);\n",
              "      border-left-color: var(--fill-color);\n",
              "    }\n",
              "    20% {\n",
              "      border-color: transparent;\n",
              "      border-left-color: var(--fill-color);\n",
              "      border-top-color: var(--fill-color);\n",
              "    }\n",
              "    30% {\n",
              "      border-color: transparent;\n",
              "      border-left-color: var(--fill-color);\n",
              "      border-top-color: var(--fill-color);\n",
              "      border-right-color: var(--fill-color);\n",
              "    }\n",
              "    40% {\n",
              "      border-color: transparent;\n",
              "      border-right-color: var(--fill-color);\n",
              "      border-top-color: var(--fill-color);\n",
              "    }\n",
              "    60% {\n",
              "      border-color: transparent;\n",
              "      border-right-color: var(--fill-color);\n",
              "    }\n",
              "    80% {\n",
              "      border-color: transparent;\n",
              "      border-right-color: var(--fill-color);\n",
              "      border-bottom-color: var(--fill-color);\n",
              "    }\n",
              "    90% {\n",
              "      border-color: transparent;\n",
              "      border-bottom-color: var(--fill-color);\n",
              "    }\n",
              "  }\n",
              "</style>\n",
              "\n",
              "  <script>\n",
              "    async function quickchart(key) {\n",
              "      const quickchartButtonEl =\n",
              "        document.querySelector('#' + key + ' button');\n",
              "      quickchartButtonEl.disabled = true;  // To prevent multiple clicks.\n",
              "      quickchartButtonEl.classList.add('colab-df-spinner');\n",
              "      try {\n",
              "        const charts = await google.colab.kernel.invokeFunction(\n",
              "            'suggestCharts', [key], {});\n",
              "      } catch (error) {\n",
              "        console.error('Error during call to suggestCharts:', error);\n",
              "      }\n",
              "      quickchartButtonEl.classList.remove('colab-df-spinner');\n",
              "      quickchartButtonEl.classList.add('colab-df-quickchart-complete');\n",
              "    }\n",
              "    (() => {\n",
              "      let quickchartButtonEl =\n",
              "        document.querySelector('#df-422b7756-322f-4dec-914d-4ef238625323 button');\n",
              "      quickchartButtonEl.style.display =\n",
              "        google.colab.kernel.accessAllowed ? 'block' : 'none';\n",
              "    })();\n",
              "  </script>\n",
              "</div>\n",
              "\n",
              "    </div>\n",
              "  </div>\n"
            ],
            "application/vnd.google.colaboratory.intrinsic+json": {
              "type": "dataframe",
              "variable_name": "news_dataset",
              "summary": "{\n  \"name\": \"news_dataset\",\n  \"rows\": 20800,\n  \"fields\": [\n    {\n      \"column\": \"id\",\n      \"properties\": {\n        \"dtype\": \"number\",\n        \"std\": 6004,\n        \"min\": 0,\n        \"max\": 20799,\n        \"num_unique_values\": 20800,\n        \"samples\": [\n          14649,\n          9231,\n          6473\n        ],\n        \"semantic_type\": \"\",\n        \"description\": \"\"\n      }\n    },\n    {\n      \"column\": \"title\",\n      \"properties\": {\n        \"dtype\": \"string\",\n        \"num_unique_values\": 19803,\n        \"samples\": [\n          \"Florida Republicans Voting for Hillary Clinton \\u00b7 Guardian Liberty Voice\",\n          \"\\u2018Weekend Warriors\\u2019 Show Survival Benefits - The New York Times\",\n          \"Part 6, Democratic Network Money: Commons Money that Works for Us, Instead of Us Working for It\"\n        ],\n        \"semantic_type\": \"\",\n        \"description\": \"\"\n      }\n    },\n    {\n      \"column\": \"author\",\n      \"properties\": {\n        \"dtype\": \"category\",\n        \"num_unique_values\": 4201,\n        \"samples\": [\n          \"AARGH63\",\n          \"Dave Kehr\",\n          \"Patrick Healy\"\n        ],\n        \"semantic_type\": \"\",\n        \"description\": \"\"\n      }\n    },\n    {\n      \"column\": \"text\",\n      \"properties\": {\n        \"dtype\": \"string\",\n        \"num_unique_values\": 20386,\n        \"samples\": [\n          \"Multan a un ultrasur por lanzar a un jugador del Bar\\u00e7a al campo durante el partido Madrid-Legia EL PARTIDO SE CONSIDERABA DE ALTO RIESGO PARA LOS JUGADORES DEL BARCELONA Real Madrid \\nUn jugador barcelonista golpe\\u00f3 a varios jugadores durante el encuentro de la Champions que tuvo lugar ayer entre el Real Madrid y el Legia Varsovia despu\\u00e9s de ser arrojado desde la grada por un hincha madridista. \\nEl portero del Legia, muy molesto, intent\\u00f3 devolver el jugador a las gradas de una patada y se encar\\u00f3 con los Ultrasur, que ya preparaban a otro jugador para echarlo al campo y entorpecer el encuentro. En esta ocasi\\u00f3n pretend\\u00edan prenderlo con un mechero antes de lanzarlo al c\\u00e9sped. \\nLas autoridades han vuelto a pedir a los aficionados que dejen de lanzar cosas al campo como botellas, monedas y jugadores del Barcelona. El dispositivo de seguridad no puedo hacer nada por evitar que algunos hinchas introdujeran a jugadores barcelonistas a la grada, pues los llevaban camuflados dentro de bocadillos de gran tama\\u00f1o. \\nEl partido pudo ser reanudado cuando el \\u00e1rbitro apart\\u00f3 a un rinc\\u00f3n del c\\u00e9sped al jugador barcelonista.\",\n          \"Written by Jacob G. Hornberger   As US officials continue to accuse Russia of meddling with the US presidential election, an accusation that they have provided no evidence whatsoever to support, let\\u2019s review some of the US government\\u2019s history of meddling with elections in others countries.1. In 1951, the democratically elected parliament of Iran elected a man named Mohammad Mossadegh to be Iran\\u2019s prime minister. Mossadegh angered British Empire officials by nationalizing British oil interests in the country.British officials then turned to the CIA for assistance. In 1953, the CIA secretly fomented a violent coup in Iran, which succeeded in ousting Mossadegh from power and making the Shah of Iran the supreme unelected dictator of the country.To fortify the Shah\\u2019s dictatorial hold on power, the CIA helped organize and train the his domestic police force, the Savak, which was essentially a combination of the CIA, the NSA, and the military. Part of the CIA\\u2019s training involved teaching Savak agents the art of torture.For the next 26 years, the Iranian people suffered under one of the most brutal and tyrannical dictatorships in the world, one that US officials fully supported and called an ally and friend of the United States.In 1979, Iranians successfully revolted against the Shah\\u2019s regime and ousted him from power. One result was not a restoration of the democratic system that had elected Mossadegh but rather another brutal dictatorship, this time a religious one. Another result is the bad relations between the Iran and US governments that continues to exist today.2. In 1951, the Guatemalan people democratically elected a man named Jacobo Arbenz to be their president. Arbenz, however, was not satisfactory to US officials, especially the national-security branch of the government, specifically the Pentagon and the CIA. The reason that US officials opposed Arbenz was that he was a socialist, and US officials considered a socialist president of Guatemala to be a threat to \\u201cnational security\\u201d here in the United States.In 1954 \\u2014 one year after the coup in Iran, the CIA fomented a violent military coup that succeeded in removing Arbenz from power and replacing him with one of the most brutal unelected military dictators in Latin American history, a man named Carlos Castillo Armas. The CIA had a kill list prepared for the coup, which Arbenz was able to escape by fleeing the country before Castillo was able to get him. The CIA\\u2019s destruction of Guatemala\\u2019s democratic system threw the nation into a 30-year civil war that ended up killing millions of Guatemalan people, especially many of the poor.3. In 1960 a man named Patrice Lamumba was elected Congo\\u2019s first prime minister after independence from Belgium. Lamumba spoke out against Western imperialism and refused to take sides in the Cold War, which caused the CIA to conclude that he was a threat to \\u201cnational security.\\u201d The CIA orchestrated the assassination of Lamumba, which ended up taking place on January 17, 1961, just three days before President Kennedy, who liked Lamumba and who would have ordered the CIA to stand down, was to be sworn into office.4. In 1970 a man named Salvador Allende received a plurality of votes in the presidential election in Chile. Pursuant to the Chilean constitution, the election was thrown into the national congress. President Richard Nixon, his national-security team, the Pentagon, and the CIA concluded that because Allende believed in communism and socialism, he posed a grave threat to \\u201cnational security\\u201d here in the United States. The CIA attempted to bribe members of the congress to vote against Allende. It also orchestrated the kidnapping of the head of Chile\\u2019s armed forces, Gen Rene Schneider, who opposed a US military coup in his country, especially since a coup would violate the country\\u2019s constitution. The kidnapping attempt on Schneider left him dead.The CIA then fomented a coup that took place on 9/11 1973 that violently ousted Allende from power and left him dead. Replacing him was army Gen. Augusto Pinochet, one of the most brutal unelected military dictators in history. By the time Pinochet\\u2019s 17-year reign of military terror came to an end in 1990, he and his CIA-supported goons had incarcerated, raped, tortured, or killed tens of thousands of innocent people \\u2014 that is, people whose only \\u201ccrime\\u201d was believing in socialism \\u2014 with the full support of the CIA, Pentagon, Nixon, and his \\u201cnational security\\u201d team.Of course, there are also the more recent support of regime-change operations that ousted democratically elected presidents that the US government disapproved of, such as in Ukraine and Egypt.And then there is the long list of countries where unelected dictators were targeted for regime change by the US national security state and, where successful, replaced with a brutal unelected pro-US dictator. Cuba, Indonesia, Iraq, Libya, and Syria all come to mind.US officials need to keep in mind that when they point their accusatory index finger at Russia for supposedly meddling in the US presidential election, US officials have, at the same time, three fingers pointing back at themselves. Reprinted with permission from the Future of Freedom Foundation . Related\",\n          \"When hearing of an establishment called the Black and Blue Steakhouse, one could reasonably surmise that some, or at the very least one, extremely tough person could be found somewhere in there. Well, the three terrorists who attacked London Bridge over the weekend found the Black and Blue Steakhouse, and they found the toughest man in the house. [Or, maybe more to the point, he found them.  Roy Larner, 47, is a huge fan of the South East London soccer team Millwall F. C. The team is known as the Lions, and when   terrorists entered the Black and Blue to kill innocent people, Larner let them know who is the true king of the jungle. After the terrorists entered, with obvious bad intentions, Larner sprang into action: \\u201cLike an idiot I shouted back at them. I thought, \\u2018I need to take the p*** out of these b*****s.\\u2019 \\u201cI took a few steps towards them and said, \\u2018F*** you, I\\u2019m Millwall.\\u2019 So they started attacking me. \\u201cI stood in front of them trying to fight them off. Everyone else ran to the back. I was on my own against all three of them, that\\u2019s why I got hurt so much. It was just me, trying to grab them with my bare hands and hold on. I was swinging. \\u201cI got stabbed and sliced eight times. They got me in my head, chest and both hands. There was blood everywhere. \\u201cThey were saying, \\u2018Islam, Islam!\\u2019 I said again, \\u2018F*** you, I\\u2019m Millwall!\\u2019 \\u201cIt was the worst thing I could have done as they carried on attacking me. \\u201cLuckily, none of the blows were straight at me or I\\u2019d be dead. \\u201d A petition has begun, with the aim of awarding Larner with the George Cross for bravery. The award is the second highest commendation granted by Great Britain. Looking at his scars, it\\u2019s really hard to imagine that he won\\u2019t get it. If Millwall is looking for a new slogan, they may have found it. \\u201cF*** you, I\\u2019m Millwall!\\u201d has a nice ring to it. Follow Dylan Gwinn on Twitter: @themightygwinn\"\n        ],\n        \"semantic_type\": \"\",\n        \"description\": \"\"\n      }\n    },\n    {\n      \"column\": \"label\",\n      \"properties\": {\n        \"dtype\": \"number\",\n        \"std\": 0,\n        \"min\": 0,\n        \"max\": 1,\n        \"num_unique_values\": 2,\n        \"samples\": [\n          0,\n          1\n        ],\n        \"semantic_type\": \"\",\n        \"description\": \"\"\n      }\n    }\n  ]\n}"
            }
          },
          "metadata": {},
          "execution_count": 22
        }
      ]
    },
    {
      "cell_type": "code",
      "source": [
        "# check for missing values\n",
        "# count the number of missing values in the dataset (in each column)\n",
        "news_dataset.isnull().sum()"
      ],
      "metadata": {
        "colab": {
          "base_uri": "https://localhost:8080/",
          "height": 241
        },
        "id": "a8S55h6PbKwx",
        "outputId": "694bbf4b-042b-4c30-cd61-be2df4bca66b"
      },
      "execution_count": 23,
      "outputs": [
        {
          "output_type": "execute_result",
          "data": {
            "text/plain": [
              "id           0\n",
              "title      558\n",
              "author    1957\n",
              "text        39\n",
              "label        0\n",
              "dtype: int64"
            ],
            "text/html": [
              "<div>\n",
              "<style scoped>\n",
              "    .dataframe tbody tr th:only-of-type {\n",
              "        vertical-align: middle;\n",
              "    }\n",
              "\n",
              "    .dataframe tbody tr th {\n",
              "        vertical-align: top;\n",
              "    }\n",
              "\n",
              "    .dataframe thead th {\n",
              "        text-align: right;\n",
              "    }\n",
              "</style>\n",
              "<table border=\"1\" class=\"dataframe\">\n",
              "  <thead>\n",
              "    <tr style=\"text-align: right;\">\n",
              "      <th></th>\n",
              "      <th>0</th>\n",
              "    </tr>\n",
              "  </thead>\n",
              "  <tbody>\n",
              "    <tr>\n",
              "      <th>id</th>\n",
              "      <td>0</td>\n",
              "    </tr>\n",
              "    <tr>\n",
              "      <th>title</th>\n",
              "      <td>558</td>\n",
              "    </tr>\n",
              "    <tr>\n",
              "      <th>author</th>\n",
              "      <td>1957</td>\n",
              "    </tr>\n",
              "    <tr>\n",
              "      <th>text</th>\n",
              "      <td>39</td>\n",
              "    </tr>\n",
              "    <tr>\n",
              "      <th>label</th>\n",
              "      <td>0</td>\n",
              "    </tr>\n",
              "  </tbody>\n",
              "</table>\n",
              "</div><br><label><b>dtype:</b> int64</label>"
            ]
          },
          "metadata": {},
          "execution_count": 23
        }
      ]
    },
    {
      "cell_type": "code",
      "source": [
        "#since we have a large dataset we can drop the null values\n",
        "#replacing the null values with empty string\n",
        "news_dataset = news_dataset.fillna('')"
      ],
      "metadata": {
        "id": "ppSaAhDncJ-a"
      },
      "execution_count": 24,
      "outputs": []
    },
    {
      "cell_type": "code",
      "source": [
        "#merging the author name and news title\n",
        "news_dataset['content'] = news_dataset['author']+' '+news_dataset['title']"
      ],
      "metadata": {
        "id": "r0au90WAfjWR"
      },
      "execution_count": 25,
      "outputs": []
    },
    {
      "cell_type": "code",
      "source": [
        "print(news_dataset['content'])"
      ],
      "metadata": {
        "colab": {
          "base_uri": "https://localhost:8080/"
        },
        "id": "QgsY_Z9mf3ae",
        "outputId": "2ca792b7-11ea-4136-e992-c8ad33a5a14e"
      },
      "execution_count": 26,
      "outputs": [
        {
          "output_type": "stream",
          "name": "stdout",
          "text": [
            "0        Darrell Lucus House Dem Aide: We Didn’t Even S...\n",
            "1        Daniel J. Flynn FLYNN: Hillary Clinton, Big Wo...\n",
            "2        Consortiumnews.com Why the Truth Might Get You...\n",
            "3        Jessica Purkiss 15 Civilians Killed In Single ...\n",
            "4        Howard Portnoy Iranian woman jailed for fictio...\n",
            "                               ...                        \n",
            "20795    Jerome Hudson Rapper T.I.: Trump a ’Poster Chi...\n",
            "20796    Benjamin Hoffman N.F.L. Playoffs: Schedule, Ma...\n",
            "20797    Michael J. de la Merced and Rachel Abrams Macy...\n",
            "20798    Alex Ansary NATO, Russia To Hold Parallel Exer...\n",
            "20799              David Swanson What Keeps the F-35 Alive\n",
            "Name: content, Length: 20800, dtype: object\n"
          ]
        }
      ]
    },
    {
      "cell_type": "code",
      "source": [
        "from tkinter.constants import X\n",
        "#seprating the data & label\n",
        "X = news_dataset.drop(columns='label',axis=1) # axis = 1 to remove column\n",
        "Y = news_dataset['label']"
      ],
      "metadata": {
        "id": "HH93a5S1f55K"
      },
      "execution_count": 27,
      "outputs": []
    },
    {
      "cell_type": "code",
      "source": [
        "print(X)\n",
        "print(Y)"
      ],
      "metadata": {
        "colab": {
          "base_uri": "https://localhost:8080/"
        },
        "id": "CXQMzNG0goFu",
        "outputId": "c330dc8c-e8e8-47a7-8f17-ae0b8f5022cd"
      },
      "execution_count": 28,
      "outputs": [
        {
          "output_type": "stream",
          "name": "stdout",
          "text": [
            "          id  ...                                            content\n",
            "0          0  ...  Darrell Lucus House Dem Aide: We Didn’t Even S...\n",
            "1          1  ...  Daniel J. Flynn FLYNN: Hillary Clinton, Big Wo...\n",
            "2          2  ...  Consortiumnews.com Why the Truth Might Get You...\n",
            "3          3  ...  Jessica Purkiss 15 Civilians Killed In Single ...\n",
            "4          4  ...  Howard Portnoy Iranian woman jailed for fictio...\n",
            "...      ...  ...                                                ...\n",
            "20795  20795  ...  Jerome Hudson Rapper T.I.: Trump a ’Poster Chi...\n",
            "20796  20796  ...  Benjamin Hoffman N.F.L. Playoffs: Schedule, Ma...\n",
            "20797  20797  ...  Michael J. de la Merced and Rachel Abrams Macy...\n",
            "20798  20798  ...  Alex Ansary NATO, Russia To Hold Parallel Exer...\n",
            "20799  20799  ...            David Swanson What Keeps the F-35 Alive\n",
            "\n",
            "[20800 rows x 5 columns]\n",
            "0        1\n",
            "1        0\n",
            "2        1\n",
            "3        1\n",
            "4        1\n",
            "        ..\n",
            "20795    0\n",
            "20796    0\n",
            "20797    0\n",
            "20798    1\n",
            "20799    1\n",
            "Name: label, Length: 20800, dtype: int64\n"
          ]
        }
      ]
    },
    {
      "cell_type": "markdown",
      "source": [
        "Stemming:\n",
        "\n",
        "Stemming is the process of reducing a word to its root word.\n",
        "\n",
        "Examples:\n",
        "actor, actress, acting --> act"
      ],
      "metadata": {
        "id": "JiOc498ng6bc"
      }
    },
    {
      "cell_type": "code",
      "source": [
        " port_stem = PorterStemmer()"
      ],
      "metadata": {
        "id": "lwBlbdF_gpcJ"
      },
      "execution_count": 29,
      "outputs": []
    },
    {
      "cell_type": "code",
      "source": [
        "def stemming(content):\n",
        "  stemmed_content = re.sub('[^a-zA-Z]',' ',content) #replacing all non-alphabetic characters from value if content\n",
        "  stemmed_content = stemmed_content.lower()\n",
        "  stemmed_content = stemmed_content.split() #words will be converted to a list\n",
        "  stemmed_content = [port_stem.stem(word) for word in stemmed_content if not word in stopwords.words('english')]\n",
        "  stemmed_content = ' '.join(stemmed_content)\n",
        "  return stemmed_content"
      ],
      "metadata": {
        "id": "jv2jaqoMhovI"
      },
      "execution_count": 30,
      "outputs": []
    },
    {
      "cell_type": "code",
      "source": [
        "news_dataset['content'] = news_dataset['content'].apply(stemming)"
      ],
      "metadata": {
        "id": "rpn-BzVpoDve"
      },
      "execution_count": 31,
      "outputs": []
    },
    {
      "cell_type": "code",
      "source": [
        "print(news_dataset['content'])"
      ],
      "metadata": {
        "colab": {
          "base_uri": "https://localhost:8080/"
        },
        "id": "-6dydR9iobVC",
        "outputId": "7e9f8507-6a93-44ba-d6c3-1e0c3f8d1c96"
      },
      "execution_count": 32,
      "outputs": [
        {
          "output_type": "stream",
          "name": "stdout",
          "text": [
            "0        darrel lucu hous dem aid even see comey letter...\n",
            "1        daniel j flynn flynn hillari clinton big woman...\n",
            "2                   consortiumnew com truth might get fire\n",
            "3        jessica purkiss civilian kill singl us airstri...\n",
            "4        howard portnoy iranian woman jail fiction unpu...\n",
            "                               ...                        \n",
            "20795    jerom hudson rapper trump poster child white s...\n",
            "20796    benjamin hoffman n f l playoff schedul matchup...\n",
            "20797    michael j de la merc rachel abram maci said re...\n",
            "20798    alex ansari nato russia hold parallel exercis ...\n",
            "20799                            david swanson keep f aliv\n",
            "Name: content, Length: 20800, dtype: object\n"
          ]
        }
      ]
    },
    {
      "cell_type": "code",
      "source": [
        "#Separating the data and label\n",
        "X = news_dataset['content'].values\n",
        "Y = news_dataset['label'].values"
      ],
      "metadata": {
        "id": "M6qQedP8pptI"
      },
      "execution_count": 34,
      "outputs": []
    },
    {
      "cell_type": "code",
      "source": [
        "print(X)"
      ],
      "metadata": {
        "colab": {
          "base_uri": "https://localhost:8080/"
        },
        "id": "p47g6h3WqwGw",
        "outputId": "a0e7f195-b1f4-4e73-9ed5-cea1bbaa0d99"
      },
      "execution_count": 35,
      "outputs": [
        {
          "output_type": "stream",
          "name": "stdout",
          "text": [
            "['darrel lucu hous dem aid even see comey letter jason chaffetz tweet'\n",
            " 'daniel j flynn flynn hillari clinton big woman campu breitbart'\n",
            " 'consortiumnew com truth might get fire' ...\n",
            " 'michael j de la merc rachel abram maci said receiv takeov approach hudson bay new york time'\n",
            " 'alex ansari nato russia hold parallel exercis balkan'\n",
            " 'david swanson keep f aliv']\n"
          ]
        }
      ]
    },
    {
      "cell_type": "code",
      "source": [
        "print(Y)"
      ],
      "metadata": {
        "colab": {
          "base_uri": "https://localhost:8080/"
        },
        "id": "4M2q58l8q3Xd",
        "outputId": "be9c8852-ba7e-4423-89d7-bc27a586468e"
      },
      "execution_count": 36,
      "outputs": [
        {
          "output_type": "stream",
          "name": "stdout",
          "text": [
            "[1 0 1 ... 0 1 1]\n"
          ]
        }
      ]
    },
    {
      "cell_type": "code",
      "source": [
        "Y.shape"
      ],
      "metadata": {
        "colab": {
          "base_uri": "https://localhost:8080/"
        },
        "id": "rNxCBP0IrDa7",
        "outputId": "15e531d8-98a4-45db-bd9b-3681c8360977"
      },
      "execution_count": 37,
      "outputs": [
        {
          "output_type": "execute_result",
          "data": {
            "text/plain": [
              "(20800,)"
            ]
          },
          "metadata": {},
          "execution_count": 37
        }
      ]
    },
    {
      "cell_type": "code",
      "source": [
        "# Converting the textual data to numercal data\n",
        "vectorizer = TfidfVectorizer() #Tf --> term frequency #idf --> Inverse document frequency\n",
        "vectorizer.fit(X)\n",
        "\n",
        "X = vectorizer.transform(X)"
      ],
      "metadata": {
        "id": "wcoaBP8RrJ6X"
      },
      "execution_count": 38,
      "outputs": []
    },
    {
      "cell_type": "code",
      "source": [
        "print(X)"
      ],
      "metadata": {
        "colab": {
          "base_uri": "https://localhost:8080/"
        },
        "id": "oBUmcCynvrLe",
        "outputId": "d531cded-0825-4377-be66-ad8df7ff5fb4"
      },
      "execution_count": 39,
      "outputs": [
        {
          "output_type": "stream",
          "name": "stdout",
          "text": [
            "  (0, 267)\t0.2701012497770876\n",
            "  (0, 2483)\t0.36765196867972083\n",
            "  (0, 2959)\t0.24684501285337127\n",
            "  (0, 3600)\t0.3598939188262558\n",
            "  (0, 3792)\t0.27053324808454915\n",
            "  (0, 4973)\t0.23331696690935097\n",
            "  (0, 7005)\t0.2187416908935914\n",
            "  (0, 7692)\t0.24785219520671598\n",
            "  (0, 8630)\t0.2921251408704368\n",
            "  (0, 8909)\t0.36359638063260746\n",
            "  (0, 13473)\t0.2565896679337956\n",
            "  (0, 15686)\t0.2848506356272864\n",
            "  (1, 1497)\t0.2939891562094648\n",
            "  (1, 1894)\t0.15521974226349364\n",
            "  (1, 2223)\t0.3827320386859759\n",
            "  (1, 2813)\t0.19094574062359204\n",
            "  (1, 3568)\t0.26373768806048464\n",
            "  (1, 5503)\t0.7143299355715573\n",
            "  (1, 6816)\t0.1904660198296849\n",
            "  (1, 16799)\t0.30071745655510157\n",
            "  (2, 2943)\t0.3179886800654691\n",
            "  (2, 3103)\t0.46097489583229645\n",
            "  (2, 5389)\t0.3866530551182615\n",
            "  (2, 5968)\t0.3474613386728292\n",
            "  (2, 9620)\t0.49351492943649944\n",
            "  :\t:\n",
            "  (20797, 3643)\t0.2115550061362374\n",
            "  (20797, 7042)\t0.21799048897828685\n",
            "  (20797, 8364)\t0.22322585870464115\n",
            "  (20797, 8988)\t0.36160868928090795\n",
            "  (20797, 9518)\t0.29542040034203126\n",
            "  (20797, 9588)\t0.17455348025522197\n",
            "  (20797, 10306)\t0.08038079000566466\n",
            "  (20797, 12138)\t0.24778257724396505\n",
            "  (20797, 12344)\t0.27263457663336677\n",
            "  (20797, 13122)\t0.24825263521976057\n",
            "  (20797, 14967)\t0.3115945315488075\n",
            "  (20797, 15295)\t0.08159261204402356\n",
            "  (20797, 16996)\t0.08315655906109998\n",
            "  (20798, 350)\t0.2844693781907258\n",
            "  (20798, 588)\t0.3112141524638974\n",
            "  (20798, 1125)\t0.4460515589182237\n",
            "  (20798, 5032)\t0.40837014502395297\n",
            "  (20798, 6889)\t0.3249628569429943\n",
            "  (20798, 10177)\t0.31924963701870285\n",
            "  (20798, 11052)\t0.4460515589182237\n",
            "  (20798, 13046)\t0.2236326748827061\n",
            "  (20799, 377)\t0.5677577267055112\n",
            "  (20799, 3623)\t0.37927626273066584\n",
            "  (20799, 8036)\t0.45983893273780013\n",
            "  (20799, 14852)\t0.5677577267055112\n"
          ]
        }
      ]
    },
    {
      "cell_type": "markdown",
      "source": [
        "Spliting the dataset to training and text data"
      ],
      "metadata": {
        "id": "ZC0Ni2mKv1EF"
      }
    },
    {
      "cell_type": "code",
      "source": [
        "X_train, X_test, Y_train, Y_test = train_test_split(X, Y, test_size = 0.2, stratify=Y, random_state=2)\n"
      ],
      "metadata": {
        "id": "5o00U2HCvtYG"
      },
      "execution_count": 40,
      "outputs": []
    },
    {
      "cell_type": "markdown",
      "source": [
        "Training the Model: Logistic Regression"
      ],
      "metadata": {
        "id": "l-I754vexBN_"
      }
    },
    {
      "cell_type": "code",
      "source": [
        "model = LogisticRegression()"
      ],
      "metadata": {
        "id": "JZR-9EyAw_lb"
      },
      "execution_count": 41,
      "outputs": []
    },
    {
      "cell_type": "markdown",
      "source": [
        "![image.png](data:image/png;base64,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)"
      ],
      "metadata": {
        "id": "4bX8DE_AzJ0h"
      }
    },
    {
      "cell_type": "markdown",
      "source": [
        "Above shows how Logistic Regression works: check if value is abobe a certain threshold in this case 0.5 if above threshold value is = 1. if below threshold value is = 0."
      ],
      "metadata": {
        "id": "n6lL9vf2zQfa"
      }
    },
    {
      "cell_type": "code",
      "source": [
        "model.fit(X_train, Y_train)"
      ],
      "metadata": {
        "colab": {
          "base_uri": "https://localhost:8080/",
          "height": 80
        },
        "id": "ZuWC7CWxxtIq",
        "outputId": "262a62fc-ce51-41d9-859f-5e77ec04b20a"
      },
      "execution_count": 42,
      "outputs": [
        {
          "output_type": "execute_result",
          "data": {
            "text/plain": [
              "LogisticRegression()"
            ],
            "text/html": [
              "<style>#sk-container-id-1 {\n",
              "  /* Definition of color scheme common for light and dark mode */\n",
              "  --sklearn-color-text: black;\n",
              "  --sklearn-color-line: gray;\n",
              "  /* Definition of color scheme for unfitted estimators */\n",
              "  --sklearn-color-unfitted-level-0: #fff5e6;\n",
              "  --sklearn-color-unfitted-level-1: #f6e4d2;\n",
              "  --sklearn-color-unfitted-level-2: #ffe0b3;\n",
              "  --sklearn-color-unfitted-level-3: chocolate;\n",
              "  /* Definition of color scheme for fitted estimators */\n",
              "  --sklearn-color-fitted-level-0: #f0f8ff;\n",
              "  --sklearn-color-fitted-level-1: #d4ebff;\n",
              "  --sklearn-color-fitted-level-2: #b3dbfd;\n",
              "  --sklearn-color-fitted-level-3: cornflowerblue;\n",
              "\n",
              "  /* Specific color for light theme */\n",
              "  --sklearn-color-text-on-default-background: var(--sg-text-color, var(--theme-code-foreground, var(--jp-content-font-color1, black)));\n",
              "  --sklearn-color-background: var(--sg-background-color, var(--theme-background, var(--jp-layout-color0, white)));\n",
              "  --sklearn-color-border-box: var(--sg-text-color, var(--theme-code-foreground, var(--jp-content-font-color1, black)));\n",
              "  --sklearn-color-icon: #696969;\n",
              "\n",
              "  @media (prefers-color-scheme: dark) {\n",
              "    /* Redefinition of color scheme for dark theme */\n",
              "    --sklearn-color-text-on-default-background: var(--sg-text-color, var(--theme-code-foreground, var(--jp-content-font-color1, white)));\n",
              "    --sklearn-color-background: var(--sg-background-color, var(--theme-background, var(--jp-layout-color0, #111)));\n",
              "    --sklearn-color-border-box: var(--sg-text-color, var(--theme-code-foreground, var(--jp-content-font-color1, white)));\n",
              "    --sklearn-color-icon: #878787;\n",
              "  }\n",
              "}\n",
              "\n",
              "#sk-container-id-1 {\n",
              "  color: var(--sklearn-color-text);\n",
              "}\n",
              "\n",
              "#sk-container-id-1 pre {\n",
              "  padding: 0;\n",
              "}\n",
              "\n",
              "#sk-container-id-1 input.sk-hidden--visually {\n",
              "  border: 0;\n",
              "  clip: rect(1px 1px 1px 1px);\n",
              "  clip: rect(1px, 1px, 1px, 1px);\n",
              "  height: 1px;\n",
              "  margin: -1px;\n",
              "  overflow: hidden;\n",
              "  padding: 0;\n",
              "  position: absolute;\n",
              "  width: 1px;\n",
              "}\n",
              "\n",
              "#sk-container-id-1 div.sk-dashed-wrapped {\n",
              "  border: 1px dashed var(--sklearn-color-line);\n",
              "  margin: 0 0.4em 0.5em 0.4em;\n",
              "  box-sizing: border-box;\n",
              "  padding-bottom: 0.4em;\n",
              "  background-color: var(--sklearn-color-background);\n",
              "}\n",
              "\n",
              "#sk-container-id-1 div.sk-container {\n",
              "  /* jupyter's `normalize.less` sets `[hidden] { display: none; }`\n",
              "     but bootstrap.min.css set `[hidden] { display: none !important; }`\n",
              "     so we also need the `!important` here to be able to override the\n",
              "     default hidden behavior on the sphinx rendered scikit-learn.org.\n",
              "     See: https://github.com/scikit-learn/scikit-learn/issues/21755 */\n",
              "  display: inline-block !important;\n",
              "  position: relative;\n",
              "}\n",
              "\n",
              "#sk-container-id-1 div.sk-text-repr-fallback {\n",
              "  display: none;\n",
              "}\n",
              "\n",
              "div.sk-parallel-item,\n",
              "div.sk-serial,\n",
              "div.sk-item {\n",
              "  /* draw centered vertical line to link estimators */\n",
              "  background-image: linear-gradient(var(--sklearn-color-text-on-default-background), var(--sklearn-color-text-on-default-background));\n",
              "  background-size: 2px 100%;\n",
              "  background-repeat: no-repeat;\n",
              "  background-position: center center;\n",
              "}\n",
              "\n",
              "/* Parallel-specific style estimator block */\n",
              "\n",
              "#sk-container-id-1 div.sk-parallel-item::after {\n",
              "  content: \"\";\n",
              "  width: 100%;\n",
              "  border-bottom: 2px solid var(--sklearn-color-text-on-default-background);\n",
              "  flex-grow: 1;\n",
              "}\n",
              "\n",
              "#sk-container-id-1 div.sk-parallel {\n",
              "  display: flex;\n",
              "  align-items: stretch;\n",
              "  justify-content: center;\n",
              "  background-color: var(--sklearn-color-background);\n",
              "  position: relative;\n",
              "}\n",
              "\n",
              "#sk-container-id-1 div.sk-parallel-item {\n",
              "  display: flex;\n",
              "  flex-direction: column;\n",
              "}\n",
              "\n",
              "#sk-container-id-1 div.sk-parallel-item:first-child::after {\n",
              "  align-self: flex-end;\n",
              "  width: 50%;\n",
              "}\n",
              "\n",
              "#sk-container-id-1 div.sk-parallel-item:last-child::after {\n",
              "  align-self: flex-start;\n",
              "  width: 50%;\n",
              "}\n",
              "\n",
              "#sk-container-id-1 div.sk-parallel-item:only-child::after {\n",
              "  width: 0;\n",
              "}\n",
              "\n",
              "/* Serial-specific style estimator block */\n",
              "\n",
              "#sk-container-id-1 div.sk-serial {\n",
              "  display: flex;\n",
              "  flex-direction: column;\n",
              "  align-items: center;\n",
              "  background-color: var(--sklearn-color-background);\n",
              "  padding-right: 1em;\n",
              "  padding-left: 1em;\n",
              "}\n",
              "\n",
              "\n",
              "/* Toggleable style: style used for estimator/Pipeline/ColumnTransformer box that is\n",
              "clickable and can be expanded/collapsed.\n",
              "- Pipeline and ColumnTransformer use this feature and define the default style\n",
              "- Estimators will overwrite some part of the style using the `sk-estimator` class\n",
              "*/\n",
              "\n",
              "/* Pipeline and ColumnTransformer style (default) */\n",
              "\n",
              "#sk-container-id-1 div.sk-toggleable {\n",
              "  /* Default theme specific background. It is overwritten whether we have a\n",
              "  specific estimator or a Pipeline/ColumnTransformer */\n",
              "  background-color: var(--sklearn-color-background);\n",
              "}\n",
              "\n",
              "/* Toggleable label */\n",
              "#sk-container-id-1 label.sk-toggleable__label {\n",
              "  cursor: pointer;\n",
              "  display: block;\n",
              "  width: 100%;\n",
              "  margin-bottom: 0;\n",
              "  padding: 0.5em;\n",
              "  box-sizing: border-box;\n",
              "  text-align: center;\n",
              "}\n",
              "\n",
              "#sk-container-id-1 label.sk-toggleable__label-arrow:before {\n",
              "  /* Arrow on the left of the label */\n",
              "  content: \"▸\";\n",
              "  float: left;\n",
              "  margin-right: 0.25em;\n",
              "  color: var(--sklearn-color-icon);\n",
              "}\n",
              "\n",
              "#sk-container-id-1 label.sk-toggleable__label-arrow:hover:before {\n",
              "  color: var(--sklearn-color-text);\n",
              "}\n",
              "\n",
              "/* Toggleable content - dropdown */\n",
              "\n",
              "#sk-container-id-1 div.sk-toggleable__content {\n",
              "  max-height: 0;\n",
              "  max-width: 0;\n",
              "  overflow: hidden;\n",
              "  text-align: left;\n",
              "  /* unfitted */\n",
              "  background-color: var(--sklearn-color-unfitted-level-0);\n",
              "}\n",
              "\n",
              "#sk-container-id-1 div.sk-toggleable__content.fitted {\n",
              "  /* fitted */\n",
              "  background-color: var(--sklearn-color-fitted-level-0);\n",
              "}\n",
              "\n",
              "#sk-container-id-1 div.sk-toggleable__content pre {\n",
              "  margin: 0.2em;\n",
              "  border-radius: 0.25em;\n",
              "  color: var(--sklearn-color-text);\n",
              "  /* unfitted */\n",
              "  background-color: var(--sklearn-color-unfitted-level-0);\n",
              "}\n",
              "\n",
              "#sk-container-id-1 div.sk-toggleable__content.fitted pre {\n",
              "  /* unfitted */\n",
              "  background-color: var(--sklearn-color-fitted-level-0);\n",
              "}\n",
              "\n",
              "#sk-container-id-1 input.sk-toggleable__control:checked~div.sk-toggleable__content {\n",
              "  /* Expand drop-down */\n",
              "  max-height: 200px;\n",
              "  max-width: 100%;\n",
              "  overflow: auto;\n",
              "}\n",
              "\n",
              "#sk-container-id-1 input.sk-toggleable__control:checked~label.sk-toggleable__label-arrow:before {\n",
              "  content: \"▾\";\n",
              "}\n",
              "\n",
              "/* Pipeline/ColumnTransformer-specific style */\n",
              "\n",
              "#sk-container-id-1 div.sk-label input.sk-toggleable__control:checked~label.sk-toggleable__label {\n",
              "  color: var(--sklearn-color-text);\n",
              "  background-color: var(--sklearn-color-unfitted-level-2);\n",
              "}\n",
              "\n",
              "#sk-container-id-1 div.sk-label.fitted input.sk-toggleable__control:checked~label.sk-toggleable__label {\n",
              "  background-color: var(--sklearn-color-fitted-level-2);\n",
              "}\n",
              "\n",
              "/* Estimator-specific style */\n",
              "\n",
              "/* Colorize estimator box */\n",
              "#sk-container-id-1 div.sk-estimator input.sk-toggleable__control:checked~label.sk-toggleable__label {\n",
              "  /* unfitted */\n",
              "  background-color: var(--sklearn-color-unfitted-level-2);\n",
              "}\n",
              "\n",
              "#sk-container-id-1 div.sk-estimator.fitted input.sk-toggleable__control:checked~label.sk-toggleable__label {\n",
              "  /* fitted */\n",
              "  background-color: var(--sklearn-color-fitted-level-2);\n",
              "}\n",
              "\n",
              "#sk-container-id-1 div.sk-label label.sk-toggleable__label,\n",
              "#sk-container-id-1 div.sk-label label {\n",
              "  /* The background is the default theme color */\n",
              "  color: var(--sklearn-color-text-on-default-background);\n",
              "}\n",
              "\n",
              "/* On hover, darken the color of the background */\n",
              "#sk-container-id-1 div.sk-label:hover label.sk-toggleable__label {\n",
              "  color: var(--sklearn-color-text);\n",
              "  background-color: var(--sklearn-color-unfitted-level-2);\n",
              "}\n",
              "\n",
              "/* Label box, darken color on hover, fitted */\n",
              "#sk-container-id-1 div.sk-label.fitted:hover label.sk-toggleable__label.fitted {\n",
              "  color: var(--sklearn-color-text);\n",
              "  background-color: var(--sklearn-color-fitted-level-2);\n",
              "}\n",
              "\n",
              "/* Estimator label */\n",
              "\n",
              "#sk-container-id-1 div.sk-label label {\n",
              "  font-family: monospace;\n",
              "  font-weight: bold;\n",
              "  display: inline-block;\n",
              "  line-height: 1.2em;\n",
              "}\n",
              "\n",
              "#sk-container-id-1 div.sk-label-container {\n",
              "  text-align: center;\n",
              "}\n",
              "\n",
              "/* Estimator-specific */\n",
              "#sk-container-id-1 div.sk-estimator {\n",
              "  font-family: monospace;\n",
              "  border: 1px dotted var(--sklearn-color-border-box);\n",
              "  border-radius: 0.25em;\n",
              "  box-sizing: border-box;\n",
              "  margin-bottom: 0.5em;\n",
              "  /* unfitted */\n",
              "  background-color: var(--sklearn-color-unfitted-level-0);\n",
              "}\n",
              "\n",
              "#sk-container-id-1 div.sk-estimator.fitted {\n",
              "  /* fitted */\n",
              "  background-color: var(--sklearn-color-fitted-level-0);\n",
              "}\n",
              "\n",
              "/* on hover */\n",
              "#sk-container-id-1 div.sk-estimator:hover {\n",
              "  /* unfitted */\n",
              "  background-color: var(--sklearn-color-unfitted-level-2);\n",
              "}\n",
              "\n",
              "#sk-container-id-1 div.sk-estimator.fitted:hover {\n",
              "  /* fitted */\n",
              "  background-color: var(--sklearn-color-fitted-level-2);\n",
              "}\n",
              "\n",
              "/* Specification for estimator info (e.g. \"i\" and \"?\") */\n",
              "\n",
              "/* Common style for \"i\" and \"?\" */\n",
              "\n",
              ".sk-estimator-doc-link,\n",
              "a:link.sk-estimator-doc-link,\n",
              "a:visited.sk-estimator-doc-link {\n",
              "  float: right;\n",
              "  font-size: smaller;\n",
              "  line-height: 1em;\n",
              "  font-family: monospace;\n",
              "  background-color: var(--sklearn-color-background);\n",
              "  border-radius: 1em;\n",
              "  height: 1em;\n",
              "  width: 1em;\n",
              "  text-decoration: none !important;\n",
              "  margin-left: 1ex;\n",
              "  /* unfitted */\n",
              "  border: var(--sklearn-color-unfitted-level-1) 1pt solid;\n",
              "  color: var(--sklearn-color-unfitted-level-1);\n",
              "}\n",
              "\n",
              ".sk-estimator-doc-link.fitted,\n",
              "a:link.sk-estimator-doc-link.fitted,\n",
              "a:visited.sk-estimator-doc-link.fitted {\n",
              "  /* fitted */\n",
              "  border: var(--sklearn-color-fitted-level-1) 1pt solid;\n",
              "  color: var(--sklearn-color-fitted-level-1);\n",
              "}\n",
              "\n",
              "/* On hover */\n",
              "div.sk-estimator:hover .sk-estimator-doc-link:hover,\n",
              ".sk-estimator-doc-link:hover,\n",
              "div.sk-label-container:hover .sk-estimator-doc-link:hover,\n",
              ".sk-estimator-doc-link:hover {\n",
              "  /* unfitted */\n",
              "  background-color: var(--sklearn-color-unfitted-level-3);\n",
              "  color: var(--sklearn-color-background);\n",
              "  text-decoration: none;\n",
              "}\n",
              "\n",
              "div.sk-estimator.fitted:hover .sk-estimator-doc-link.fitted:hover,\n",
              ".sk-estimator-doc-link.fitted:hover,\n",
              "div.sk-label-container:hover .sk-estimator-doc-link.fitted:hover,\n",
              ".sk-estimator-doc-link.fitted:hover {\n",
              "  /* fitted */\n",
              "  background-color: var(--sklearn-color-fitted-level-3);\n",
              "  color: var(--sklearn-color-background);\n",
              "  text-decoration: none;\n",
              "}\n",
              "\n",
              "/* Span, style for the box shown on hovering the info icon */\n",
              ".sk-estimator-doc-link span {\n",
              "  display: none;\n",
              "  z-index: 9999;\n",
              "  position: relative;\n",
              "  font-weight: normal;\n",
              "  right: .2ex;\n",
              "  padding: .5ex;\n",
              "  margin: .5ex;\n",
              "  width: min-content;\n",
              "  min-width: 20ex;\n",
              "  max-width: 50ex;\n",
              "  color: var(--sklearn-color-text);\n",
              "  box-shadow: 2pt 2pt 4pt #999;\n",
              "  /* unfitted */\n",
              "  background: var(--sklearn-color-unfitted-level-0);\n",
              "  border: .5pt solid var(--sklearn-color-unfitted-level-3);\n",
              "}\n",
              "\n",
              ".sk-estimator-doc-link.fitted span {\n",
              "  /* fitted */\n",
              "  background: var(--sklearn-color-fitted-level-0);\n",
              "  border: var(--sklearn-color-fitted-level-3);\n",
              "}\n",
              "\n",
              ".sk-estimator-doc-link:hover span {\n",
              "  display: block;\n",
              "}\n",
              "\n",
              "/* \"?\"-specific style due to the `<a>` HTML tag */\n",
              "\n",
              "#sk-container-id-1 a.estimator_doc_link {\n",
              "  float: right;\n",
              "  font-size: 1rem;\n",
              "  line-height: 1em;\n",
              "  font-family: monospace;\n",
              "  background-color: var(--sklearn-color-background);\n",
              "  border-radius: 1rem;\n",
              "  height: 1rem;\n",
              "  width: 1rem;\n",
              "  text-decoration: none;\n",
              "  /* unfitted */\n",
              "  color: var(--sklearn-color-unfitted-level-1);\n",
              "  border: var(--sklearn-color-unfitted-level-1) 1pt solid;\n",
              "}\n",
              "\n",
              "#sk-container-id-1 a.estimator_doc_link.fitted {\n",
              "  /* fitted */\n",
              "  border: var(--sklearn-color-fitted-level-1) 1pt solid;\n",
              "  color: var(--sklearn-color-fitted-level-1);\n",
              "}\n",
              "\n",
              "/* On hover */\n",
              "#sk-container-id-1 a.estimator_doc_link:hover {\n",
              "  /* unfitted */\n",
              "  background-color: var(--sklearn-color-unfitted-level-3);\n",
              "  color: var(--sklearn-color-background);\n",
              "  text-decoration: none;\n",
              "}\n",
              "\n",
              "#sk-container-id-1 a.estimator_doc_link.fitted:hover {\n",
              "  /* fitted */\n",
              "  background-color: var(--sklearn-color-fitted-level-3);\n",
              "}\n",
              "</style><div id=\"sk-container-id-1\" class=\"sk-top-container\"><div class=\"sk-text-repr-fallback\"><pre>LogisticRegression()</pre><b>In a Jupyter environment, please rerun this cell to show the HTML representation or trust the notebook. <br />On GitHub, the HTML representation is unable to render, please try loading this page with nbviewer.org.</b></div><div class=\"sk-container\" hidden><div class=\"sk-item\"><div class=\"sk-estimator fitted sk-toggleable\"><input class=\"sk-toggleable__control sk-hidden--visually\" id=\"sk-estimator-id-1\" type=\"checkbox\" checked><label for=\"sk-estimator-id-1\" class=\"sk-toggleable__label fitted sk-toggleable__label-arrow fitted\">&nbsp;&nbsp;LogisticRegression<a class=\"sk-estimator-doc-link fitted\" rel=\"noreferrer\" target=\"_blank\" href=\"https://scikit-learn.org/1.5/modules/generated/sklearn.linear_model.LogisticRegression.html\">?<span>Documentation for LogisticRegression</span></a><span class=\"sk-estimator-doc-link fitted\">i<span>Fitted</span></span></label><div class=\"sk-toggleable__content fitted\"><pre>LogisticRegression()</pre></div> </div></div></div></div>"
            ]
          },
          "metadata": {},
          "execution_count": 42
        }
      ]
    },
    {
      "cell_type": "markdown",
      "source": [
        "Evaluate Model"
      ],
      "metadata": {
        "id": "qgkqdyuO9vzn"
      }
    },
    {
      "cell_type": "markdown",
      "source": [
        "Accuracy score"
      ],
      "metadata": {
        "id": "nwA21eiO9z3F"
      }
    },
    {
      "cell_type": "code",
      "source": [
        "# accuracy score on the training data\n",
        "X_train_prediction = model.predict(X_train)\n",
        "training_data_accuracy = accuracy_score(X_train_prediction, Y_train)\n"
      ],
      "metadata": {
        "id": "rnhQkwna1TJs"
      },
      "execution_count": 43,
      "outputs": []
    },
    {
      "cell_type": "code",
      "source": [
        "print('Accuracy score of the training data: ', training_data_accuracy)"
      ],
      "metadata": {
        "colab": {
          "base_uri": "https://localhost:8080/"
        },
        "id": "cZ-p4NZr-tnu",
        "outputId": "d78998a2-cbc3-4921-8183-a1d801359acf"
      },
      "execution_count": 44,
      "outputs": [
        {
          "output_type": "stream",
          "name": "stdout",
          "text": [
            "Accuracy score of the training data:  0.9863581730769231\n"
          ]
        }
      ]
    },
    {
      "cell_type": "code",
      "source": [
        "# accuracy score on the test data\n",
        "X_test_prediction = model.predict(X_test)\n",
        "test_data_accuracy = accuracy_score(X_test_prediction, Y_test)"
      ],
      "metadata": {
        "id": "qVW0M8R3-4LJ"
      },
      "execution_count": 45,
      "outputs": []
    },
    {
      "cell_type": "code",
      "source": [
        "print('Accuracy score of the test data: ', test_data_accuracy)"
      ],
      "metadata": {
        "colab": {
          "base_uri": "https://localhost:8080/"
        },
        "id": "I6mJWPV3_kAc",
        "outputId": "aa502bf9-4839-4666-c172-8210aaa20412"
      },
      "execution_count": 46,
      "outputs": [
        {
          "output_type": "stream",
          "name": "stdout",
          "text": [
            "Accuracy score of the test data:  0.9790865384615385\n"
          ]
        }
      ]
    },
    {
      "cell_type": "markdown",
      "source": [
        "since accuracy scores are similair --> model has not overtrained with the training data and is performing well."
      ],
      "metadata": {
        "id": "fZEC-706_sCu"
      }
    },
    {
      "cell_type": "markdown",
      "source": [
        "Make a Predictive System"
      ],
      "metadata": {
        "id": "hkDp003P_5by"
      }
    },
    {
      "cell_type": "code",
      "source": [
        "from tkinter import E\n",
        "X_new = X_test[0]\n",
        "\n",
        "prediction = model.predict(X_new)\n",
        "print(prediction)\n",
        "\n",
        "if (prediction[0] == 0):\n",
        "  print('The news is Real')\n",
        "else:\n",
        "  print('The news is Fake')"
      ],
      "metadata": {
        "colab": {
          "base_uri": "https://localhost:8080/"
        },
        "id": "_3jvHhSE_oPb",
        "outputId": "d55abe6f-73ce-40ff-e2f2-c0b9953263bb"
      },
      "execution_count": 47,
      "outputs": [
        {
          "output_type": "stream",
          "name": "stdout",
          "text": [
            "[1]\n",
            "The news is Fake\n"
          ]
        }
      ]
    },
    {
      "cell_type": "code",
      "source": [
        "print(Y_test[0])"
      ],
      "metadata": {
        "colab": {
          "base_uri": "https://localhost:8080/"
        },
        "id": "ZjEDCFleAkzG",
        "outputId": "c3457361-b1f2-4e44-ebaa-62bdb4525b55"
      },
      "execution_count": 49,
      "outputs": [
        {
          "output_type": "stream",
          "name": "stdout",
          "text": [
            "1\n"
          ]
        }
      ]
    },
    {
      "cell_type": "markdown",
      "source": [
        "Model has predicted correctly"
      ],
      "metadata": {
        "id": "vdKnBZchAumA"
      }
    },
    {
      "cell_type": "markdown",
      "source": [
        "You can change the value [0] to predict and check other news"
      ],
      "metadata": {
        "id": "TivLpCMXA5oV"
      }
    }
  ]
}